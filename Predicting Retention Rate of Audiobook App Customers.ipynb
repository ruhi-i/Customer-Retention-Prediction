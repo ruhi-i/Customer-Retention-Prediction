{
 "cells": [
  {
   "cell_type": "markdown",
   "metadata": {},
   "source": [
    "# Predicting Retention Rate of Customers of an Audiobook Company\n",
    "\n"
   ]
  },
  {
   "cell_type": "markdown",
   "metadata": {},
   "source": [
    "## Introduction to the Business Problem\n",
    "\n",
    "Companies, Organizations and Businesses, are always keen to not only to expand their customer base, but also retain valuable customers. Customers are the most prized asset of any company. Availability of data as a resource, and utilization of technology to identify prospective customers creates a plethora of value and growth opportunities.It is one of the finer applications of Data Science.\n",
    "\n",
    "**Customer Retention** is the capability of a company, business or product, to hold on to its customers over a specified time period. **High customer retention** means customers tend to return to and continue to buy from the company, and don't defect to another company.\n",
    "\n",
    "In this analysis, I'll be predicting the Retention Rate of customers of an Audiobook Company, by employing Deep Neural Networks. The Audiobook company wants to make efficient use of its Advertising Budget, and doesn't want to target individuals who are unlikely to come back. Concentrated efforts on customers who are likely to convert again, will improve the sales and profitability figures.\n",
    "\n",
    "\n",
    "**OBJECTIVE**: Using Deep Learning to predict if a customer will buy again from the AudioBook Company.\n"
   ]
  },
  {
   "cell_type": "markdown",
   "metadata": {},
   "source": [
    "## Data\n",
    "\n",
    "The data is taken from an Audiobook App. It relates to Audiobooks purchased by each customer at least once.\n",
    "\n",
    "\n",
    "Let's import the relevant libraries and havea look at the data.\n"
   ]
  },
  {
   "cell_type": "code",
   "execution_count": 1,
   "metadata": {},
   "outputs": [],
   "source": [
    "import numpy as np\n",
    "import os\n",
    "from sklearn import preprocessing\n",
    "import tensorflow as tf"
   ]
  },
  {
   "cell_type": "code",
   "execution_count": 4,
   "metadata": {},
   "outputs": [
    {
     "data": {
      "text/html": [
       "<div>\n",
       "<style scoped>\n",
       "    .dataframe tbody tr th:only-of-type {\n",
       "        vertical-align: middle;\n",
       "    }\n",
       "\n",
       "    .dataframe tbody tr th {\n",
       "        vertical-align: top;\n",
       "    }\n",
       "\n",
       "    .dataframe thead th {\n",
       "        text-align: right;\n",
       "    }\n",
       "</style>\n",
       "<table border=\"1\" class=\"dataframe\">\n",
       "  <thead>\n",
       "    <tr style=\"text-align: right;\">\n",
       "      <th></th>\n",
       "      <th>0</th>\n",
       "      <th>1</th>\n",
       "      <th>2</th>\n",
       "      <th>3</th>\n",
       "      <th>4</th>\n",
       "      <th>5</th>\n",
       "      <th>6</th>\n",
       "      <th>7</th>\n",
       "      <th>8</th>\n",
       "      <th>9</th>\n",
       "      <th>10</th>\n",
       "      <th>11</th>\n",
       "    </tr>\n",
       "  </thead>\n",
       "  <tbody>\n",
       "    <tr>\n",
       "      <th>0</th>\n",
       "      <td>994</td>\n",
       "      <td>1620.0</td>\n",
       "      <td>1620</td>\n",
       "      <td>19.73</td>\n",
       "      <td>19.73</td>\n",
       "      <td>1</td>\n",
       "      <td>10.00</td>\n",
       "      <td>0.99</td>\n",
       "      <td>1603.8</td>\n",
       "      <td>5</td>\n",
       "      <td>92</td>\n",
       "      <td>0</td>\n",
       "    </tr>\n",
       "    <tr>\n",
       "      <th>1</th>\n",
       "      <td>1143</td>\n",
       "      <td>2160.0</td>\n",
       "      <td>2160</td>\n",
       "      <td>5.33</td>\n",
       "      <td>5.33</td>\n",
       "      <td>0</td>\n",
       "      <td>8.91</td>\n",
       "      <td>0.00</td>\n",
       "      <td>0.0</td>\n",
       "      <td>0</td>\n",
       "      <td>0</td>\n",
       "      <td>0</td>\n",
       "    </tr>\n",
       "    <tr>\n",
       "      <th>2</th>\n",
       "      <td>2059</td>\n",
       "      <td>2160.0</td>\n",
       "      <td>2160</td>\n",
       "      <td>5.33</td>\n",
       "      <td>5.33</td>\n",
       "      <td>0</td>\n",
       "      <td>8.91</td>\n",
       "      <td>0.00</td>\n",
       "      <td>0.0</td>\n",
       "      <td>0</td>\n",
       "      <td>388</td>\n",
       "      <td>0</td>\n",
       "    </tr>\n",
       "    <tr>\n",
       "      <th>3</th>\n",
       "      <td>2882</td>\n",
       "      <td>1620.0</td>\n",
       "      <td>1620</td>\n",
       "      <td>5.96</td>\n",
       "      <td>5.96</td>\n",
       "      <td>0</td>\n",
       "      <td>8.91</td>\n",
       "      <td>0.42</td>\n",
       "      <td>680.4</td>\n",
       "      <td>1</td>\n",
       "      <td>129</td>\n",
       "      <td>0</td>\n",
       "    </tr>\n",
       "    <tr>\n",
       "      <th>4</th>\n",
       "      <td>3342</td>\n",
       "      <td>2160.0</td>\n",
       "      <td>2160</td>\n",
       "      <td>5.33</td>\n",
       "      <td>5.33</td>\n",
       "      <td>0</td>\n",
       "      <td>8.91</td>\n",
       "      <td>0.22</td>\n",
       "      <td>475.2</td>\n",
       "      <td>0</td>\n",
       "      <td>361</td>\n",
       "      <td>0</td>\n",
       "    </tr>\n",
       "  </tbody>\n",
       "</table>\n",
       "</div>"
      ],
      "text/plain": [
       "     0       1     2      3      4   5      6     7       8   9    10  11\n",
       "0   994  1620.0  1620  19.73  19.73   1  10.00  0.99  1603.8   5   92   0\n",
       "1  1143  2160.0  2160   5.33   5.33   0   8.91  0.00     0.0   0    0   0\n",
       "2  2059  2160.0  2160   5.33   5.33   0   8.91  0.00     0.0   0  388   0\n",
       "3  2882  1620.0  1620   5.96   5.96   0   8.91  0.42   680.4   1  129   0\n",
       "4  3342  2160.0  2160   5.33   5.33   0   8.91  0.22   475.2   0  361   0"
      ]
     },
     "execution_count": 4,
     "metadata": {},
     "output_type": "execute_result"
    }
   ],
   "source": [
    "import pandas as pd\n",
    "data=pd.read_csv('Downloads/Audiobooks_data.csv',header=None)\n",
    "data.head()"
   ]
  },
  {
   "cell_type": "markdown",
   "metadata": {},
   "source": [
    "In the dataset above, each row represents a customer.\n",
    "\n",
    "### Feature Description\n",
    "\n",
    "The Features are:\n",
    "\n",
    "* 0 - **I.D. of Customer**\n",
    "\n",
    "* 1 - **Book Length in minutes**: The overall book length is the sum of the length in minutes of all Audiobook purchases.\n",
    "\n",
    "* 2 - **Average Book Length in minutes**: It is the overall book length divided by the number of purchases. So if somebody has bought a single audio book, the average length and the overall length for this person will be equal.\n",
    "\n",
    "* 3 - **Price Overall**: Price in Dollars, Price is almost always a good predictor of behavior.\n",
    "\n",
    "* 4 - **Average Price**\n",
    "\n",
    "* 5 - **Reviews**: It shows if the customer left a review. This is a metric that shows engagement with the platform. Our assumption is that people who leave reviews are more likely to convert again.\n",
    "\n",
    "* 6 - **Review out of 10**: This is a different variable. It measures the review of a customer on a scale from 1 to 10.\n",
    "\n",
    "* 7 - **Completion**: Completion is the total minutes listened to divided by the total length of books a person has purchased, assuming people don't re-listen to books.\n",
    "\n",
    "* 8 - **Minutes Listened - Total**\n",
    "\n",
    "* 9 - **Support Requests**: The total number of support requests the person has opened. Support is anything from a forgotten password to assistance on using the platform once more. This is a measure of engagement.\n",
    "\n",
    "* 10 - **Last visited minus Purchase Date** The difference between the last time a person interacted with the platform and their first purchase date. That's yet another measure of engagement. The bigger the difference the better. If a person engages regularly with a platform this difference will be bigger. Thus the customer is likely to convert again.  But if the value of this variable is zero, We are sure the customer has never accessed what he/she has bought or perhaps he did it on the first day only. So it is unlikely he or she will convert again.\n",
    "\n",
    "* 11 - **Target**: The targets are **one** if a person converted and **zero** if he or she didn't.\n",
    "\n",
    "\n",
    "#### Time Period\n",
    "\n",
    "The data represents two years worth of engagement. In order to create the targets, data for an extra six months has been taken after the two year period to check if a user converted. So, the dataset pertains to the two year period, and the targets to the six month period.\n",
    "In other words if a customer bought another book and if that happened in the six month period we can count them as a conversion and the target will be 1. Otherwise it is zero. This is a classification problem with two classes **won't buy** and **will buy** represented by **zeros and ones**.\n",
    "\n",
    "\n",
    "       \n",
    "       \n"
   ]
  },
  {
   "cell_type": "markdown",
   "metadata": {},
   "source": [
    "### Loading the Dataset and creating Inputs and Targets"
   ]
  },
  {
   "cell_type": "code",
   "execution_count": 7,
   "metadata": {},
   "outputs": [],
   "source": [
    "file_path=os.path.join('Downloads','Audiobooks_data.csv')\n",
    "raw_data_csv=np.loadtxt(fname=file_path,delimiter=',')\n",
    "\n",
    "unscaled_inputs_all=raw_data_csv[:,1:-1]\n",
    "targets_all=raw_data_csv[:,-1]"
   ]
  },
  {
   "cell_type": "markdown",
   "metadata": {},
   "source": [
    "## Data Preprocessing"
   ]
  },
  {
   "cell_type": "markdown",
   "metadata": {},
   "source": [
    "### Balancing the Dataset\n",
    "\n",
    "The dataset must be well-balanced and not have excess of any one type of value. So, let's count the Targets which are 1's and keep as many 0's as 1's.\n",
    "\n"
   ]
  },
  {
   "cell_type": "code",
   "execution_count": 8,
   "metadata": {},
   "outputs": [],
   "source": [
    "num_one_targets=int(np.sum(targets_all))\n",
    "zero_target_counter=0\n",
    "indices_to_remove=[]\n",
    "\n",
    "for i in range(targets_all.shape[0]):\n",
    "    if targets_all[i] == 0:\n",
    "        zero_target_counter += 1\n",
    "        if zero_target_counter > num_one_targets:\n",
    "            indices_to_remove.append(i)\n",
    "            \n",
    "unscaled_inputs_equal_priors=np.delete(unscaled_inputs_all,indices_to_remove,axis=0)\n",
    "targets_equal_priors=np.delete(targets_all,indices_to_remove,axis=0)"
   ]
  },
  {
   "cell_type": "markdown",
   "metadata": {},
   "source": [
    "### Standardizing the Inputs\n",
    "\n",
    "Let's scale the inputs and then shuffle the inputs and targets."
   ]
  },
  {
   "cell_type": "code",
   "execution_count": 36,
   "metadata": {},
   "outputs": [],
   "source": [
    "#Scaling\n",
    "scaled_inputs=preprocessing.scale(unscaled_inputs_equal_priors)\n",
    "\n",
    "#Shuffling\n",
    "shuffled_indices=np.arange(scaled_inputs.shape[0])\n",
    "np.random.shuffle(shuffled_indices)\n",
    "\n",
    "\n",
    "shuffled_inputs=scaled_inputs[shuffled_indices]\n",
    "shuffled_targets=targets_equal_priors[shuffled_indices]"
   ]
  },
  {
   "cell_type": "markdown",
   "metadata": {},
   "source": [
    "### Splitting Data into Train, Validation and Test Sets"
   ]
  },
  {
   "cell_type": "code",
   "execution_count": 37,
   "metadata": {},
   "outputs": [],
   "source": [
    "samples_count=shuffled_inputs.shape[0]\n",
    "\n",
    "train_samples_count=int(0.8*samples_count)\n",
    "validation_samples_count=int(0.1*samples_count)\n",
    "test_samples_count=samples_count-train_samples_count-validation_samples_count\n",
    "\n",
    "train_inputs=shuffled_inputs[:train_samples_count]\n",
    "train_targets=shuffled_targets[:train_samples_count]\n",
    "\n",
    "validation_inputs=shuffled_inputs[train_samples_count:train_samples_count+validation_samples_count]\n",
    "validation_targets=shuffled_targets[train_samples_count:train_samples_count+validation_samples_count]\n",
    "\n",
    "test_inputs=shuffled_inputs[train_samples_count+validation_samples_count:]\n",
    "test_targets=shuffled_targets[train_samples_count+validation_samples_count:]"
   ]
  },
  {
   "cell_type": "markdown",
   "metadata": {},
   "source": [
    "Let's check if the dataset is balanced, as we may have balanaced the whole data, but not the Train, Validation and Test sets individually."
   ]
  },
  {
   "cell_type": "code",
   "execution_count": 38,
   "metadata": {},
   "outputs": [
    {
     "name": "stdout",
     "output_type": "stream",
     "text": [
      "1786.0 3579 0.4990220732048058\n",
      "225.0 447 0.5033557046979866\n",
      "226.0 448 0.5044642857142857\n"
     ]
    }
   ],
   "source": [
    "print(np.sum(train_targets),train_samples_count,np.sum(train_targets)/train_samples_count)\n",
    "print(np.sum(validation_targets),validation_samples_count,np.sum(validation_targets)/validation_samples_count)\n",
    "print(np.sum(test_targets),test_samples_count,np.sum(test_targets)/test_samples_count)"
   ]
  },
  {
   "cell_type": "markdown",
   "metadata": {},
   "source": [
    "### Saving the data as '.npz'"
   ]
  },
  {
   "cell_type": "code",
   "execution_count": 39,
   "metadata": {},
   "outputs": [],
   "source": [
    "np.savez('Audiobooks_Data_train',inputs=train_inputs,targets=train_targets)\n",
    "np.savez('Audiobooks_Data_validation',inputs=validation_inputs,targets=validation_targets)\n",
    "np.savez('Audiobooks_Data_test',inputs=test_inputs,targets=test_targets)"
   ]
  },
  {
   "cell_type": "markdown",
   "metadata": {},
   "source": [
    "## Data Modeling\n",
    "\n",
    "Let's use Deep Neural Networks to classify the customers. "
   ]
  },
  {
   "cell_type": "markdown",
   "metadata": {},
   "source": [
    "### Loading the npz files"
   ]
  },
  {
   "cell_type": "code",
   "execution_count": 40,
   "metadata": {},
   "outputs": [],
   "source": [
    "npz1=np.load('Audiobooks_Data_train.npz')\n",
    "train_inputs=npz1['inputs'].astype(np.float)\n",
    "train_targets=npz1['targets'].astype(np.int)\n",
    "\n",
    "npz2=np.load('Audiobooks_Data_validation.npz')\n",
    "validation_inputs=npz2['inputs'].astype(np.float)\n",
    "validation_targets=npz2['targets'].astype(np.int)\n",
    "\n",
    "npz3=np.load('Audiobooks_Data_test.npz')\n",
    "test_inputs=npz3['inputs'].astype(np.float)\n",
    "test_targets=npz3['targets'].astype(np.int)"
   ]
  },
  {
   "cell_type": "markdown",
   "metadata": {},
   "source": [
    "### Deep Neural Network\n",
    "\n",
    "The Neural Network has:\n",
    "* 10 Input nodes for our 10 Features\n",
    "* 3 Hidden Layers with 50 nodes each\n",
    "* The activation function for the first Hidden layer is the Hyperbolic Tangent 'tanh' and the next two layers is the Rectified Linear function 'relu'."
   ]
  },
  {
   "cell_type": "code",
   "execution_count": 101,
   "metadata": {},
   "outputs": [],
   "source": [
    "input_size=10\n",
    "output_size=2\n",
    "hidden_layer_size=100\n",
    "\n",
    "\n",
    "\n",
    "model=tf.keras.Sequential([\n",
    "   \n",
    "   \n",
    "    tf.keras.layers.Dense(hidden_layer_size,activation='tanh'),\n",
    "    tf.keras.layers.Dense(hidden_layer_size,activation='relu'),\n",
    "    tf.keras.layers.Dense(hidden_layer_size,activation='relu'),\n",
    "   \n",
    "    tf.keras.layers.Dense(output_size,activation='softmax')\n",
    "])\n"
   ]
  },
  {
   "cell_type": "markdown",
   "metadata": {},
   "source": [
    "Let's use the optimizer 'Adam' and loss function 'sparse categorical crossentropy'."
   ]
  },
  {
   "cell_type": "code",
   "execution_count": 102,
   "metadata": {},
   "outputs": [],
   "source": [
    "model.compile(optimizer='adam',loss='sparse_categorical_crossentropy',metrics=['accuracy'])"
   ]
  },
  {
   "cell_type": "markdown",
   "metadata": {},
   "source": [
    "Let's employ **Early stopping** in order to avoid overfitting."
   ]
  },
  {
   "cell_type": "code",
   "execution_count": 109,
   "metadata": {},
   "outputs": [
    {
     "name": "stdout",
     "output_type": "stream",
     "text": [
      "Train on 3579 samples, validate on 447 samples\n",
      "Epoch 1/100\n",
      "3579/3579 - 1s - loss: 0.3162 - accuracy: 0.8187 - val_loss: 0.3648 - val_accuracy: 0.8076\n",
      "Epoch 2/100\n",
      "3579/3579 - 1s - loss: 0.3132 - accuracy: 0.8287 - val_loss: 0.3716 - val_accuracy: 0.7852\n",
      "Epoch 3/100\n",
      "3579/3579 - 0s - loss: 0.3131 - accuracy: 0.8279 - val_loss: 0.3791 - val_accuracy: 0.8166\n"
     ]
    },
    {
     "data": {
      "text/plain": [
       "<tensorflow.python.keras.callbacks.History at 0x1a43650cd0>"
      ]
     },
     "execution_count": 109,
     "metadata": {},
     "output_type": "execute_result"
    }
   ],
   "source": [
    "batch_size=100\n",
    "max_epochs=100\n",
    "\n",
    "early_stopping=tf.keras.callbacks.EarlyStopping(patience=2)\n",
    "model.fit(train_inputs,\n",
    "          train_targets,\n",
    "          batch_size=batch_size,\n",
    "          epochs=max_epochs,\n",
    "          callbacks=[early_stopping],\n",
    "          validation_data=(validation_inputs,\n",
    "          validation_targets),\n",
    "          verbose=2)"
   ]
  },
  {
   "cell_type": "markdown",
   "metadata": {},
   "source": [
    "## Testing the Model"
   ]
  },
  {
   "cell_type": "code",
   "execution_count": 110,
   "metadata": {},
   "outputs": [
    {
     "name": "stdout",
     "output_type": "stream",
     "text": [
      "448/1 [================================================================================================================================================================================================================================================================================================================================================================================================================================================================================================================================================================================================================================================================================================================================================================================================================================================================================================================================================================================================================================================================================================================================================================================================================================================================================================================================================================================================================================================================================================================================================================================================================================================================================================================================================================================================================================================================================================================================================================================================================================================================================================================================================================================================================================================================================================================================================================================================================================================================================================================================================================================================================================================================================================================================================================================================================================================================================================================================================================================================================================================================================================================================================================================================================================================================================================================================================================================================================================================================================================================================================================================================================================================================================================================================================================================================================================================================================================================================================================================================================================================================================================================================================================================================================================================================================================================================================================================================================================================================================================================================================================================================================================================================================================================================================================================================================================================================================================================================================================================================================================================================================================================================================================================================================================================================================================================================================================================================================================================================================================================================================================================================================================================================================================================================================================================================================================================================================================================================================================================================================================================================================================================================================================================================================================================================================================================================================================================================================================================================================================================================================================================================================================================================================================================================================================================================================================================================================================================================================================================================================================================================================================================================================================================================================================================================================================================================================================================================================================================================================================================================================================================================================================================================================================================================================================================================================================================================================================================================================================================================================================================================================================================================================================================================================================================================================================================================================================================================================================================================================================================================================================================================================================================================================================================================================================================================================================================================================================================================================================================================================================================================================================================================================================================================================================================================================================================================================================================================================================================================================================================================================================================================================================================================================================================================================================================================================================================================================================================================================================================================================================================================================================================================================================================================================================================================================================================================================================================================================================================================================================================================================================================================================================================================================================================================================================================================================================================================================================================================================================================================================================================================================================================================================================================================================================================================================================================================================================================================================================================================================================================================================================================================================================================================================================================================================================================================================================================================================================================================================================================================================================================================================================================================================================================================================================================================================================================================================================================================================================================================================================================================================================================================================================================================================================================================================================================================================================================================================================================================================================================================================================================================================================================================================================================================================================================================================================================================================================================================================================================================================================================================================================================================================================================================================================================================================================================================================================================================================================================================================================================================] - 0s 134us/sample - loss: 0.3014 - accuracy: 0.8214\n",
      "0.32399983810526983 0.8214286\n"
     ]
    }
   ],
   "source": [
    "test_loss,test_accuracy=model.evaluate(test_inputs,test_targets)\n",
    "print(test_loss,test_accuracy)"
   ]
  },
  {
   "cell_type": "markdown",
   "metadata": {},
   "source": [
    "#### The Models Test accuracy is 82%, very close to the Validation Accuracy of 81.66%. "
   ]
  },
  {
   "cell_type": "markdown",
   "metadata": {},
   "source": [
    "## Results"
   ]
  },
  {
   "cell_type": "markdown",
   "metadata": {},
   "source": [
    "The Neural Network is correct in predicting the Retention of customers 82% of the time. "
   ]
  }
 ],
 "metadata": {
  "kernelspec": {
   "display_name": "Python 3",
   "language": "python",
   "name": "python3"
  },
  "language_info": {
   "codemirror_mode": {
    "name": "ipython",
    "version": 3
   },
   "file_extension": ".py",
   "mimetype": "text/x-python",
   "name": "python",
   "nbconvert_exporter": "python",
   "pygments_lexer": "ipython3",
   "version": "3.7.9"
  }
 },
 "nbformat": 4,
 "nbformat_minor": 4
}
